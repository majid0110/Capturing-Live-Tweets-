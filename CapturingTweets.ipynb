{
  "nbformat": 4,
  "nbformat_minor": 0,
  "metadata": {
    "colab": {
      "name": "LiveTweets.ipynb",
      "provenance": []
    },
    "kernelspec": {
      "name": "python3",
      "display_name": "Python 3"
    },
    "language_info": {
      "name": "python"
    }
  },
  "cells": [
    {
      "cell_type": "markdown",
      "source": [
        "Importing Libraries and defendecies"
      ],
      "metadata": {
        "id": "0AULobyg6iSW"
      }
    },
    {
      "cell_type": "code",
      "source": [
        "import tweepy\n",
        "import configparser\n",
        "import pandas as pd"
      ],
      "metadata": {
        "id": "Xqi25KcI6sG-"
      },
      "execution_count": 1,
      "outputs": []
    },
    {
      "cell_type": "code",
      "source": [
        "config = configparser.ConfigParser()\n",
        "config.read('config.ini')"
      ],
      "metadata": {
        "colab": {
          "base_uri": "https://localhost:8080/"
        },
        "id": "WJqbjOKR6734",
        "outputId": "3a87bba9-3217-46b4-ccff-0f08bcbd3c22"
      },
      "execution_count": 4,
      "outputs": [
        {
          "output_type": "execute_result",
          "data": {
            "text/plain": [
              "['config.ini']"
            ]
          },
          "metadata": {},
          "execution_count": 4
        }
      ]
    },
    {
      "cell_type": "code",
      "source": [
        "api_key = config['twitter']['api_key']\n",
        "api_key_secret = config['twitter']['api_key_secret']\n",
        "\n",
        "access_token = config['twitter']['access_token']\n",
        "access_token_secret = config['twitter']['access_token_secret']"
      ],
      "metadata": {
        "id": "GOrwH7AM7tum"
      },
      "execution_count": 5,
      "outputs": []
    },
    {
      "cell_type": "markdown",
      "source": [
        "Twitter Authentication"
      ],
      "metadata": {
        "id": "Q6Lf9fId75Pf"
      }
    },
    {
      "cell_type": "code",
      "source": [
        "auth = tweepy.OAuthHandler(api_key, api_key_secret)\n",
        "api = tweepy.API(auth)"
      ],
      "metadata": {
        "id": "42a8ILkj7-g0"
      },
      "execution_count": 6,
      "outputs": []
    },
    {
      "cell_type": "markdown",
      "source": [
        "Key word and Number of Tweets"
      ],
      "metadata": {
        "id": "I2m83xY18NE6"
      }
    },
    {
      "cell_type": "code",
      "source": [
        "keyword = 'sad'\n",
        "limit = 1000\n",
        "user = 'Elon Musk'"
      ],
      "metadata": {
        "id": "-ExGFjnX8U7e"
      },
      "execution_count": 18,
      "outputs": []
    },
    {
      "cell_type": "code",
      "source": [
        "tweets = tweepy.Cursor(api.search, q = keyword, count= 100, tweet_mode = 'extended').items(limit)"
      ],
      "metadata": {
        "id": "SecItBBY8ee0"
      },
      "execution_count": 22,
      "outputs": []
    },
    {
      "cell_type": "code",
      "source": [
        "#tweets = api.user_timeline(screen_name = user, count= limit, tweet_mode = 'extended')"
      ],
      "metadata": {
        "id": "NOEPtIAlA1sO"
      },
      "execution_count": 21,
      "outputs": []
    },
    {
      "cell_type": "code",
      "source": [
        "columns = ['User', 'Tweet']\n",
        "data = []\n",
        "for tweet in tweets:\n",
        "    data.append([tweet.user.screen_name, tweet.full_text])\n",
        "\n",
        "df = pd.DataFrame(data, columns=columns)\n",
        "print(df)"
      ],
      "metadata": {
        "colab": {
          "base_uri": "https://localhost:8080/"
        },
        "id": "yy3_leCg8y7N",
        "outputId": "28b00d0d-d2ef-45fb-b65a-4950fa72ce30"
      },
      "execution_count": 16,
      "outputs": [
        {
          "output_type": "stream",
          "name": "stdout",
          "text": [
            "                User                                              Tweet\n",
            "0           OnevaYue  RT @HiynHai: Yeah. Lilies. I love you guys. I'...\n",
            "1             schnik  RT @StandingLocal: To tell a lesbian she is bi...\n",
            "2        Panksharma_  RT @BurcuYld61: Hello everyone.The finished ve...\n",
            "3    safersfnoboudin  It's sad when a Black woman has to defend hers...\n",
            "4           khani_89  RT @AllahGreatQuran: Sadness spoils your life....\n",
            "..               ...                                                ...\n",
            "995  _audreychelulei                            @smileycherry2 Very sad\n",
            "996       sad_rodent             I'm gonna die if I don't start dieting\n",
            "997      angry_birdu  RT @drbala: @kryes @angry_birdu @FeTNA @naanji...\n",
            "998       shay_nurse  RT @Roblaw1978: I’m sad tonight, conflicted as...\n",
            "999        NuGambino  RT @jayoshexo: i was sad and down for a few da...\n",
            "\n",
            "[1000 rows x 2 columns]\n"
          ]
        }
      ]
    }
  ]
}